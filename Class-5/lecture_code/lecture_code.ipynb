{
  "cells": [
    {
      "cell_type": "code",
      "execution_count": 2,
      "metadata": {
        "colab": {
          "base_uri": "https://localhost:8080/"
        },
        "id": "rFVMQLLY8SWM",
        "outputId": "3d195724-1af0-41f6-c78b-0f65c4ce7f3e"
      },
      "outputs": [
        {
          "name": "stdout",
          "output_type": "stream",
          "text": [
            "32\n"
          ]
        }
      ],
      "source": [
        "#vector operation\n",
        "\n",
        "import numpy as np\n",
        "a = np.array([1,2,3])\n",
        "b = np.array([4,5,6])\n",
        "\n",
        "dot_product = np.dot(a,b)\n",
        "print(dot_product)"
      ]
    },
    {
      "cell_type": "code",
      "execution_count": 14,
      "metadata": {
        "id": "xdVC5fLv-PJP"
      },
      "outputs": [
        {
          "name": "stdout",
          "output_type": "stream",
          "text": [
            "[-3  6 -3]\n"
          ]
        }
      ],
      "source": [
        "#cross product\n",
        "import numpy as np\n",
        "a = np.array([1,2,3])\n",
        "b = np.array([4,5,6])\n",
        "\n",
        "cross_product = np.cross(a,b)\n",
        "print(cross_product)"
      ]
    },
    {
      "cell_type": "code",
      "execution_count": 3,
      "metadata": {
        "colab": {
          "base_uri": "https://localhost:8080/"
        },
        "id": "ard7K1C1_JmH",
        "outputId": "2c890277-4b5c-4ded-8b3b-0fba464c5214"
      },
      "outputs": [
        {
          "name": "stdout",
          "output_type": "stream",
          "text": [
            "3.605551275463989\n"
          ]
        }
      ],
      "source": [
        "#magnitude of vector\n",
        "a = np.array([2,3])\n",
        "magnitude = np.linalg.norm(a)\n",
        "print(magnitude)     #sqrt (2^2 + 3^2)"
      ]
    },
    {
      "cell_type": "code",
      "execution_count": 5,
      "metadata": {
        "colab": {
          "base_uri": "https://localhost:8080/"
        },
        "id": "SfYo3hf-_pDJ",
        "outputId": "c8b4f566-e753-4288-b4e8-c0495a24c964"
      },
      "outputs": [
        {
          "name": "stdout",
          "output_type": "stream",
          "text": [
            "32\n",
            "32\n"
          ]
        }
      ],
      "source": [
        "#matrix multiplication\n",
        "a = np.array([1,2,3])\n",
        "b = np.array([4,5,6])\n",
        "\n",
        "result_mult = a@b\n",
        "print(result_mult)\n",
        "\n",
        "result1_mult = np.matmul(a,b)\n",
        "print(result1_mult)"
      ]
    },
    {
      "cell_type": "code",
      "execution_count": 6,
      "metadata": {
        "colab": {
          "base_uri": "https://localhost:8080/"
        },
        "id": "zthYjleLAJSv",
        "outputId": "431bbeb9-5535-48ee-adce-812718000811"
      },
      "outputs": [
        {
          "name": "stdout",
          "output_type": "stream",
          "text": [
            "[[1 4]\n",
            " [2 5]\n",
            " [3 6]]\n"
          ]
        }
      ],
      "source": [
        "#transpose of matrix\n",
        "a = np.array([[1,2,3],[4,5,6]])\n",
        "transpose_a = a.T\n",
        "print(transpose_a)"
      ]
    },
    {
      "cell_type": "code",
      "execution_count": 7,
      "metadata": {
        "colab": {
          "base_uri": "https://localhost:8080/"
        },
        "id": "gO2XgQcpAY7P",
        "outputId": "549dc859-a8eb-4a15-cddb-3334af47a716"
      },
      "outputs": [
        {
          "name": "stdout",
          "output_type": "stream",
          "text": [
            "-2.0000000000000004\n"
          ]
        }
      ],
      "source": [
        "#determinant of matrix\n",
        "a = np.array([[1,2],[3,4]])\n",
        "determinant_a = np.linalg.det(a)\n",
        "print(determinant_a)"
      ]
    },
    {
      "cell_type": "code",
      "execution_count": 8,
      "metadata": {
        "colab": {
          "base_uri": "https://localhost:8080/"
        },
        "id": "hnSgypRyAolh",
        "outputId": "2e8cdc8f-5ad3-4402-df34-638003f525ce"
      },
      "outputs": [
        {
          "name": "stdout",
          "output_type": "stream",
          "text": [
            "[[-2.   1. ]\n",
            " [ 1.5 -0.5]]\n"
          ]
        }
      ],
      "source": [
        "#inverse of the matrix\n",
        "\n",
        "# Take 'a' variable as an input\n",
        "#convert this code into function\n",
        "a = np.array([[1,2],[3,4]])\n",
        "inverse_a = np.linalg.inv(a)\n",
        "print(inverse_a)"
      ]
    },
    {
      "cell_type": "code",
      "execution_count": 9,
      "metadata": {
        "colab": {
          "base_uri": "https://localhost:8080/"
        },
        "id": "Rm8Yx7_fBkEB",
        "outputId": "ee58a656-e843-4763-86d7-4eab549c6193"
      },
      "outputs": [
        {
          "name": "stdout",
          "output_type": "stream",
          "text": [
            "[-0.37228132  5.37228132]\n",
            "[[-0.82456484 -0.41597356]\n",
            " [ 0.56576746 -0.90937671]]\n"
          ]
        }
      ],
      "source": [
        "#eigen values and eigen vectors\n",
        "a = np.array([[1,2],[3,4]])\n",
        "eigen_values, eigen_vectors = np.linalg.eig(a)\n",
        "print(eigen_values)\n",
        "print(eigen_vectors)"
      ]
    },
    {
      "cell_type": "code",
      "execution_count": 10,
      "metadata": {
        "colab": {
          "base_uri": "https://localhost:8080/"
        },
        "id": "aEmlZVvPCCAc",
        "outputId": "f85e34e4-598a-49d3-b6d6-79b7b745d0eb"
      },
      "outputs": [
        {
          "name": "stdout",
          "output_type": "stream",
          "text": [
            "[-4.   4.5]\n"
          ]
        }
      ],
      "source": [
        "#Solving the Linear Equation\n",
        "a = np.array([[1,2],[3,4]])\n",
        "b = np.array([5,6])\n",
        "solution = np.linalg.solve(a,b)  #Ax = b\n",
        "print(solution)"
      ]
    },
    {
      "cell_type": "code",
      "execution_count": 11,
      "metadata": {
        "colab": {
          "base_uri": "https://localhost:8080/"
        },
        "id": "RvPouMkUCqjO",
        "outputId": "d04ffcd4-47b9-4fbd-e113-47b232006bb0"
      },
      "outputs": [
        {
          "name": "stdout",
          "output_type": "stream",
          "text": [
            "[1 2 3 4 5 6]\n"
          ]
        }
      ],
      "source": [
        "#concatenate\n",
        "a = np.array([1,2,3])\n",
        "b = np.array([4,5,6])\n",
        "c = np.concatenate((a,b))\n",
        "print(c)"
      ]
    },
    {
      "cell_type": "code",
      "execution_count": 18,
      "metadata": {
        "colab": {
          "base_uri": "https://localhost:8080/"
        },
        "id": "lvRy5u-hC91C",
        "outputId": "6d60d57d-123e-4375-e14b-ff1f278aa793"
      },
      "outputs": [
        {
          "name": "stdout",
          "output_type": "stream",
          "text": [
            "2\n"
          ]
        }
      ],
      "source": [
        "#vertical stacking\n",
        "\n",
        "a = np.array([1,2,3])\n",
        "b = np.array([4,5,6])\n",
        "c = np.vstack((a,b))\n",
        "print(c.ndim)\n",
        "\n"
      ]
    },
    {
      "cell_type": "code",
      "execution_count": 17,
      "metadata": {
        "colab": {
          "base_uri": "https://localhost:8080/"
        },
        "id": "AI1mj-u5DOcn",
        "outputId": "4fe1124d-3126-4502-b8ac-194b91dc65c9"
      },
      "outputs": [
        {
          "name": "stdout",
          "output_type": "stream",
          "text": [
            "1\n"
          ]
        }
      ],
      "source": [
        "#horizontal stacking\n",
        "a = np.array([1,2,3])\n",
        "b = np.array([4,5,6])\n",
        "c = np.hstack((a,b))\n",
        "print(c.ndim)"
      ]
    },
    {
      "cell_type": "code",
      "execution_count": 16,
      "metadata": {
        "colab": {
          "base_uri": "https://localhost:8080/"
        },
        "id": "heiWDx1hDnaR",
        "outputId": "ae767711-b3c4-4513-e1a0-84f8b19fe73f"
      },
      "outputs": [
        {
          "name": "stdout",
          "output_type": "stream",
          "text": [
            "3\n"
          ]
        }
      ],
      "source": [
        "#depth stacking\n",
        "\n",
        "a = np.array([[1,2], [3,4]])\n",
        "b = np.array([[4,5], [7,8]])\n",
        "c = np.dstack((a,b))\n",
        "print(c.ndim)"
      ]
    },
    {
      "cell_type": "code",
      "execution_count": 24,
      "metadata": {
        "colab": {
          "base_uri": "https://localhost:8080/"
        },
        "id": "h4iE1cN4EVb3",
        "outputId": "86c15eeb-f5db-4149-bd89-4e934e090bd6"
      },
      "outputs": [
        {
          "name": "stdout",
          "output_type": "stream",
          "text": [
            "[array([1, 2]), array([3, 4]), array([5, 6])]\n",
            "[array([[1, 2]]), array([[3, 4]]), array([[5, 6]])]\n",
            "[array([[1],\n",
            "       [4]]), array([[2],\n",
            "       [5]]), array([[3],\n",
            "       [6]])]\n"
          ]
        }
      ],
      "source": [
        "#spliting arrays\n",
        "arr = np.array([1,2,3,4,5,6])\n",
        "split = np.split(arr,3)\n",
        "\n",
        "print(split)\n",
        "\n",
        "#vertical split (rows wise adjustment)\n",
        "a = np.array([[1,2],[3,4],[5,6]])\n",
        "v_split = np.vsplit(a,3)\n",
        "print(v_split)\n",
        "\n",
        "#horiontal split (column wise adjustment)\n",
        "b = np.array([[1,2,3],[4,5,6]])\n",
        "h_split = np.hsplit(b,3)\n",
        "print(h_split)\n"
      ]
    },
    {
      "cell_type": "code",
      "execution_count": 26,
      "metadata": {
        "colab": {
          "base_uri": "https://localhost:8080/"
        },
        "id": "WoxJ7aHnFe-2",
        "outputId": "0ae190a8-91c7-4335-8e2d-e3e707898fba"
      },
      "outputs": [
        {
          "name": "stdout",
          "output_type": "stream",
          "text": [
            "[[1 2 3 1 2 3 1 2 3]\n",
            " [1 2 3 1 2 3 1 2 3]]\n",
            "[1 1 1 2 2 2 3 3 3]\n"
          ]
        }
      ],
      "source": [
        "#tiling and repeating\n",
        "x = np.array([1,2,3])\n",
        "tile = np.tile(x,(2,3))\n",
        "print(tile)\n",
        "\n",
        "repeat = np.repeat(x,3)\n",
        "print(repeat)"
      ]
    },
    {
      "cell_type": "code",
      "execution_count": 28,
      "metadata": {
        "colab": {
          "base_uri": "https://localhost:8080/"
        },
        "id": "_cpaESAXGMVN",
        "outputId": "84df029a-a21e-4fe7-9d38-f87df3f6b916"
      },
      "outputs": [
        {
          "name": "stdout",
          "output_type": "stream",
          "text": [
            "    Username   Identifier First name Last name\n",
            "0   booker12         9012     Rachel    Booker\n",
            "1     grey07         2070      Laura      Grey\n",
            "2  johnson81         4081      Craig   Johnson\n",
            "3  jenkins46         9346       Mary   Jenkins\n",
            "4    smith79         5079      Jamie     Smith\n"
          ]
        }
      ],
      "source": [
        "#Pandas library\n",
        "import pandas as pd\n",
        "\n",
        "df = pd.read_csv('data.csv', delimiter=';')\n",
        "print(df)"
      ]
    },
    {
      "cell_type": "code",
      "execution_count": 29,
      "metadata": {
        "colab": {
          "base_uri": "https://localhost:8080/"
        },
        "id": "SspqfRUdHXzi",
        "outputId": "5e052466-fb9d-4cd1-b0cb-009fb3b46a87"
      },
      "outputs": [
        {
          "name": "stdout",
          "output_type": "stream",
          "text": [
            "   0 First Name  Last Name  Gender        Country  Age        Date    Id\n",
            "0  1      Dulce      Abril  Female  United States   32  15/10/2017  1562\n",
            "1  2       Mara  Hashimoto  Female  Great Britain   25  16/08/2016  1582\n",
            "2  3     Philip       Gent    Male         France   36  21/05/2015  2587\n",
            "3  4   Kathleen     Hanner  Female  United States   25  15/10/2017  3549\n",
            "4  5    Nereida    Magwood  Female  United States   58  16/08/2016  2468\n",
            "5  6     Gaston      Brumm    Male  United States   24  21/05/2015  2554\n",
            "6  7       Etta       Hurn  Female  Great Britain   56  15/10/2017  3598\n",
            "7  8    Earlean     Melgar  Female  United States   27  16/08/2016  2456\n",
            "8  9   Vincenza    Weiland  Female  United States   40  21/05/2015  6548\n"
          ]
        }
      ],
      "source": [
        "df_excel =pd.read_excel(\"data.xls\")\n",
        "print(df_excel)"
      ]
    },
    {
      "cell_type": "code",
      "execution_count": 30,
      "metadata": {
        "colab": {
          "base_uri": "https://localhost:8080/"
        },
        "id": "Ur6bGReLHkB8",
        "outputId": "bf71548b-d0de-4f3a-b1d2-db10a6696af7"
      },
      "outputs": [
        {
          "name": "stdout",
          "output_type": "stream",
          "text": [
            "                                                    menu\n",
            "id                                                  file\n",
            "value                                               File\n",
            "popup  {'menuitem': [{'value': 'New', 'onclick': 'Cre...\n"
          ]
        }
      ],
      "source": [
        "import json\n",
        "df_json = pd.read_json(\"data.json\")\n",
        "print(df_json)"
      ]
    },
    {
      "cell_type": "code",
      "execution_count": 31,
      "metadata": {
        "colab": {
          "base_uri": "https://localhost:8080/"
        },
        "id": "R-jF350XHtQ_",
        "outputId": "52d8f96d-11d4-4d9b-c93c-8234df852e57"
      },
      "outputs": [
        {
          "name": "stdout",
          "output_type": "stream",
          "text": [
            "   part_id       part_name  manufacture_plant_id manufacture_start_date  \\\n",
            "0        1     2.6L Engine                     1             2012-08-12   \n",
            "1        2     3.0L Engine                     2             2012-07-10   \n",
            "2        3     2.4L Engine                     5             2012-08-12   \n",
            "3        4  Jetrag 6 Speed                     5             2012-02-11   \n",
            "4        5      Bose Audio                     1             2014-08-02   \n",
            "5        6     4WD Chassis                     2             2000-08-29   \n",
            "6        7     2WD Chassis                     2             2005-12-20   \n",
            "\n",
            "  manufacture_end_date  part_recall  \n",
            "0           2013-08-12            0  \n",
            "1           2017-02-20            0  \n",
            "2           2013-08-12            0  \n",
            "3           2013-08-12            0  \n",
            "4           2015-03-12            0  \n",
            "5           2017-05-12            0  \n",
            "6           2017-11-01            0  \n"
          ]
        }
      ],
      "source": [
        "import sqlite3\n",
        "\n",
        "conn = sqlite3.connect(\"data.db\")\n",
        "df_sqlite = pd.read_sql_query(\"SELECT * FROM Car_Parts\", conn)\n",
        "print(df_sqlite)"
      ]
    },
    {
      "cell_type": "code",
      "execution_count": 33,
      "metadata": {
        "colab": {
          "base_uri": "https://localhost:8080/"
        },
        "id": "_cD0gvKwIUb-",
        "outputId": "52bdc1bb-686a-4b61-fdf9-41f3f8241433"
      },
      "outputs": [
        {
          "name": "stdout",
          "output_type": "stream",
          "text": [
            "    Username   Identifier First name Last name\n",
            "0   booker12         9012     Rachel    Booker\n",
            "1     grey07         2070      Laura      Grey\n",
            "2  johnson81         4081      Craig   Johnson\n",
            "3  jenkins46         9346       Mary   Jenkins\n",
            "4    smith79         5079      Jamie     Smith\n"
          ]
        }
      ],
      "source": [
        "chunksize = 200\n",
        "\n",
        "for chunk in pd.read_csv(\"data.csv\", delimiter=';', chunksize=chunksize):\n",
        "    print(chunk.head())  #first 5 rows / lines\n"
      ]
    },
    {
      "cell_type": "code",
      "execution_count": 35,
      "metadata": {
        "colab": {
          "base_uri": "https://localhost:8080/"
        },
        "id": "CeCkHxVjI9oo",
        "outputId": "9f9cacb7-8736-4b31-ffe0-59c5baf793cc"
      },
      "outputs": [
        {
          "name": "stdout",
          "output_type": "stream",
          "text": [
            "    Username   Identifier First name Last name\n",
            "0   booker12         9012     Rachel    Booker\n",
            "1     grey07         2070      Laura      Grey\n",
            "2  johnson81         4081      Craig   Johnson\n",
            "3  jenkins46         9346       Mary   Jenkins\n",
            "4    smith79         5079      Jamie     Smith\n"
          ]
        }
      ],
      "source": [
        "#optimize memory usage by converting data types\n",
        "df['Username'] = df['Username'].astype('category')\n",
        "\n",
        "print(df)\n"
      ]
    },
    {
      "cell_type": "code",
      "execution_count": 4,
      "metadata": {
        "id": "9Tc8cxaZJd1s"
      },
      "outputs": [
        {
          "name": "stdout",
          "output_type": "stream",
          "text": [
            "Successfully backed up 1 files to 'backup_folder'.\n"
          ]
        }
      ],
      "source": [
        "import os\n",
        "import glob\n",
        "import shutil\n",
        "\n",
        "# Define backup folder name\n",
        "backup_folder = \"backup_folder\"\n",
        "\n",
        "# Ensure the backup folder exists\n",
        "os.makedirs(backup_folder, exist_ok=True)\n",
        "\n",
        "# Get all CSV files in the current directory\n",
        "csv_files = glob.glob(\"*.csv\")\n",
        "\n",
        "# Copy each CSV file to the backup folder\n",
        "for csv_file in csv_files:\n",
        "    shutil.copy(csv_file, os.path.join(backup_folder, csv_file))\n",
        "\n",
        "print(f\"Successfully backed up {len(csv_files)} files to '{backup_folder}'.\")\n"
      ]
    },
    {
      "cell_type": "code",
      "execution_count": 5,
      "metadata": {
        "colab": {
          "base_uri": "https://localhost:8080/"
        },
        "id": "fXkv14AGKQgK",
        "outputId": "940b08d6-9876-46a0-e67a-808dc179e80e"
      },
      "outputs": [
        {
          "name": "stdout",
          "output_type": "stream",
          "text": [
            "      Name   Age   Salary\n",
            "0    Alice  25.0  50000.0\n",
            "1      Bob  30.0  60000.0\n",
            "2  Charlie  35.0      NaN\n",
            "3     None   NaN  70000.0\n"
          ]
        }
      ],
      "source": [
        "# Sample DataFrame\n",
        "data = {'Name': ['Alice', 'Bob', 'Charlie', None], 'Age': [25, 30, 35, None], 'Salary': [50000, 60000, None, 70000]}\n",
        "df = pd.DataFrame(data)\n",
        "# Preview dataset\n",
        "print(df.head())\n",
        "\n"
      ]
    },
    {
      "cell_type": "code",
      "execution_count": 38,
      "metadata": {
        "colab": {
          "base_uri": "https://localhost:8080/"
        },
        "id": "FF7VzBDpKfCO",
        "outputId": "8d55c7e2-7e1a-4137-c084-ab697afc63ae"
      },
      "outputs": [
        {
          "name": "stdout",
          "output_type": "stream",
          "text": [
            "<class 'pandas.core.frame.DataFrame'>\n",
            "RangeIndex: 4 entries, 0 to 3\n",
            "Data columns (total 3 columns):\n",
            " #   Column  Non-Null Count  Dtype  \n",
            "---  ------  --------------  -----  \n",
            " 0   Name    3 non-null      object \n",
            " 1   Age     3 non-null      float64\n",
            " 2   Salary  3 non-null      float64\n",
            "dtypes: float64(2), object(1)\n",
            "memory usage: 228.0+ bytes\n",
            "None\n"
          ]
        }
      ],
      "source": [
        "print(df.info())"
      ]
    },
    {
      "cell_type": "code",
      "execution_count": 40,
      "metadata": {
        "colab": {
          "base_uri": "https://localhost:8080/"
        },
        "id": "JRxr7obfKpOL",
        "outputId": "a6204ad1-9a9a-4a23-9512-4b91b5575b77"
      },
      "outputs": [
        {
          "name": "stdout",
          "output_type": "stream",
          "text": [
            "Name       object\n",
            "Age       float64\n",
            "Salary    float64\n",
            "dtype: object\n"
          ]
        }
      ],
      "source": [
        "print(df.dtypes)"
      ]
    },
    {
      "cell_type": "code",
      "execution_count": 46,
      "metadata": {
        "colab": {
          "base_uri": "https://localhost:8080/"
        },
        "id": "HcKOuWCRKx-k",
        "outputId": "c492efc7-eb7e-4f10-a771-ed046ad73d67"
      },
      "outputs": [
        {
          "name": "stdout",
          "output_type": "stream",
          "text": [
            "      Name   Age   Salary\n",
            "2  Charlie  35.0      NaN\n",
            "3     None   NaN  70000.0\n",
            "      Name   Age   Salary\n",
            "0    Alice  25.0  50000.0\n",
            "2  Charlie  35.0      NaN\n"
          ]
        }
      ],
      "source": [
        "# print(df.head(2))\n",
        "# print(df.tail(2))\n",
        "print(df.sample(2))"
      ]
    },
    {
      "cell_type": "code",
      "execution_count": 48,
      "metadata": {
        "colab": {
          "base_uri": "https://localhost:8080/"
        },
        "id": "XLGCkkd2LEUI",
        "outputId": "0f1d9f3b-c90b-4fe5-9381-74008df34504"
      },
      "outputs": [
        {
          "name": "stdout",
          "output_type": "stream",
          "text": [
            "<bound method Series.sum of 0    False\n",
            "1    False\n",
            "2    False\n",
            "3    False\n",
            "dtype: bool>\n"
          ]
        }
      ],
      "source": [
        "# print(df.isnull().sum) #missing values\n",
        "print(df.duplicated().sum)\n",
        "boxplot = df.boxplot() #checking outliers"
      ]
    },
    {
      "cell_type": "code",
      "execution_count": null,
      "metadata": {
        "colab": {
          "base_uri": "https://localhost:8080/",
          "height": 408
        },
        "id": "-HZGiMNxLcGO",
        "outputId": "8d82c6e4-d8b5-4ec8-9ddf-5e437ae56679"
      },
      "outputs": [
        {
          "name": "stdout",
          "output_type": "stream",
          "text": [
            "     A    B  C\n",
            "1  2.0  3.0  Y\n",
            "3  4.0  5.0  Z\n",
            "          A    B     C\n",
            "0  1.000000  4.0     X\n",
            "1  2.000000  3.0     Y\n",
            "2  2.333333  4.0  None\n",
            "3  4.000000  5.0     Z\n"
          ]
        }
      ],
      "source": [
        "import pandas as pd\n",
        "\n",
        "# Sample DataFrame\n",
        "data = {\n",
        "    \"A\": [1, 2, None, 4],\n",
        "    \"B\": [None, 3, 4, 5],\n",
        "    \"C\": [\"X\", \"Y\", None, \"Z\"],  \n",
        "}\n",
        "\n",
        "df = pd.DataFrame(data)\n",
        "\n",
        "# Remove missing values\n",
        "print(df.dropna())\n",
        "\n",
        "df_filled = df.fillna(df.mean(numeric_only=True))  \n",
        "\n",
        "print(df_filled)\n"
      ]
    },
    {
      "cell_type": "code",
      "execution_count": 10,
      "metadata": {
        "colab": {
          "base_uri": "https://localhost:8080/",
          "height": 287
        },
        "id": "v_v5YRMyL5Ym",
        "outputId": "1764b4b5-2d3f-47b1-b2d2-d39238477082"
      },
      "outputs": [
        {
          "name": "stdout",
          "output_type": "stream",
          "text": [
            "     A    B   C\n",
            "A  1.0  1.0 NaN\n",
            "B  1.0  1.0 NaN\n",
            "C  NaN  NaN NaN\n"
          ]
        }
      ],
      "source": [
        "import pandas as pd\n",
        "\n",
        "data = {\n",
        "    \"A\": [1, 2, None, 4],\n",
        "    \"B\": [None, 3, 4, 5],\n",
        "    \"C\": [\"X\", \"Y\", None, \"Z\"],  \n",
        "}\n",
        "\n",
        "df = pd.DataFrame(data)\n",
        "\n",
        "df_numeric = df.apply(pd.to_numeric, errors=\"coerce\")\n",
        "\n",
        "# Compute correlation\n",
        "print(df_numeric.corr())\n"
      ]
    },
    {
      "cell_type": "code",
      "execution_count": 12,
      "metadata": {
        "id": "CZHyP295L_9w"
      },
      "outputs": [
        {
          "name": "stdout",
          "output_type": "stream",
          "text": [
            "      Name   Age   Salary\n",
            "0    Alice  26.0  51000.0\n",
            "1      Bob  32.5  62500.0\n",
            "2  Charlie  40.0  70000.0\n"
          ]
        }
      ],
      "source": [
        "import pandas as pd\n",
        "\n",
        "data = {\n",
        "    \"Name\": [\"Alice\", \"Bob\", \"Alice\", \"Bob\", \"Charlie\"],\n",
        "    \"Age\": [25, 30, 27, 35, 40],\n",
        "    \"Salary\": [50000, 60000, 52000, 65000, 70000],\n",
        "}\n",
        "\n",
        "df = pd.DataFrame(data)\n",
        "\n",
        "# Group by 'Name' and compute the mean for numeric columns\n",
        "print(df.groupby(\"Name\", as_index=False).mean(numeric_only=True))\n"
      ]
    },
    {
      "cell_type": "code",
      "execution_count": 13,
      "metadata": {
        "colab": {
          "base_uri": "https://localhost:8080/"
        },
        "id": "gGgevoGyMPE2",
        "outputId": "b542096b-ea6a-42dc-d8d3-0ad56087e648"
      },
      "outputs": [
        {
          "name": "stdout",
          "output_type": "stream",
          "text": [
            "Original DataFrame:\n",
            "      Name   Age   Salary\n",
            "0    Alice  25.0  50000.0\n",
            "1      Bob  30.0  60000.0\n",
            "2  Charlie  35.0  70000.0\n",
            "3    David  40.0  80000.0\n",
            "4      Eva  45.0      NaN\n",
            "5    Alice   NaN  50000.0\n",
            "\n",
            "DataFrame After Dropping Missing Values:\n",
            "      Name   Age   Salary\n",
            "0    Alice  25.0  50000.0\n",
            "1      Bob  30.0  60000.0\n",
            "2  Charlie  35.0  70000.0\n",
            "3    David  40.0  80000.0\n",
            "\n",
            "DataFrame After Filling Missing Values with Mean:\n",
            "      Name   Age   Salary\n",
            "0    Alice  25.0  50000.0\n",
            "1      Bob  30.0  60000.0\n",
            "2  Charlie  35.0  70000.0\n",
            "3    David  40.0  80000.0\n",
            "4      Eva  45.0  62000.0\n",
            "5    Alice  35.0  50000.0\n",
            "\n",
            "DataFrame After Removing Duplicates:\n",
            "      Name   Age   Salary\n",
            "0    Alice  25.0  50000.0\n",
            "1      Bob  30.0  60000.0\n",
            "2  Charlie  35.0  70000.0\n",
            "3    David  40.0  80000.0\n",
            "4      Eva  45.0      NaN\n",
            "5    Alice   NaN  50000.0\n",
            "\n",
            "DataFrame After Changing Data Type of 'Age' to Int64:\n"
          ]
        }
      ],
      "source": [
        "import pandas as pd\n",
        "# Sample DataFrame with missing values and duplicates\n",
        "data = {\n",
        "    'Name': ['Alice', 'Bob', 'Charlie', 'David', 'Eva', 'Alice'],\n",
        "    'Age': [25, 30, 35, 40, 45, None],  # Notice missing value for Age\n",
        "    'Salary': [50000, 60000, 70000, 80000, None, 50000]  # Notice missing value for Salary\n",
        "}\n",
        "# Create DataFrame\n",
        "df = pd.DataFrame(data)\n",
        "# Display original DataFrame\n",
        "print(\"Original DataFrame:\")\n",
        "print(df)\n",
        "# Remove missing values (drop rows with any NaN values)\n",
        "df_cleaned = df.dropna()\n",
        "print(\"\\nDataFrame After Dropping Missing Values:\")\n",
        "print(df_cleaned)\n",
        "# Fill missing values with the mean of the column (only for numeric columns)\n",
        "df_filled = df.copy()\n",
        "df_filled['Salary'] = df_filled['Salary'].fillna(df_filled['Salary'].mean())\n",
        "df_filled['Age'] = df_filled['Age'].fillna(df_filled['Age'].mean())\n",
        "print(\"\\nDataFrame After Filling Missing Values with Mean:\")\n",
        "print(df_filled)\n",
        "# Remove duplicate rows (based on all columns)\n",
        "df_unique = df.drop_duplicates()\n",
        "print(\"\\nDataFrame After Removing Duplicates:\")\n",
        "print(df_unique)\n",
        "# Change the data type of 'Age' column to Int64 (nullable integer type)\n",
        "df['Age'] = df['Age'].astype('Int64')  # Nullable integer type\n",
        "print(\"\\nDataFrame After Changing Data Type of 'Age' to Int64:\")\n",
        "\n"
      ]
    },
    {
      "cell_type": "code",
      "execution_count": 53,
      "metadata": {
        "colab": {
          "base_uri": "https://localhost:8080/"
        },
        "id": "fw1cMO0iMgA5",
        "outputId": "0a923e22-1c3b-42c8-cc58-44efecf0a69e"
      },
      "outputs": [
        {
          "name": "stdout",
          "output_type": "stream",
          "text": [
            "Correlation Matrix:\n",
            "             Age    Salary\n",
            "Age     1.000000  0.939948\n",
            "Salary  0.939948  1.000000\n",
            "\n",
            "Grouped Data (Mean of Age and Salary by Name):\n",
            "      Name   Age   Salary\n",
            "0    Alice  25.0  50000.0\n",
            "1      Bob  30.0  60000.0\n",
            "2  Charlie  35.0  70000.0\n",
            "3    David  40.0  80000.0\n",
            "4      Eva  45.0  75000.0\n"
          ]
        }
      ],
      "source": [
        "import pandas as pd\n",
        "# Sample DataFrame\n",
        "data = {\n",
        "    'Name': ['Alice', 'Bob', 'Charlie', 'David', 'Eva', 'Alice'],\n",
        "    'Age': [25, 30, 35, 40, 45, 25],  # Alice appears twice\n",
        "    'Salary': [50000, 60000, 70000, 80000, 75000, 50000]\n",
        "}\n",
        "# Create DataFrame\n",
        "df = pd.DataFrame(data)\n",
        "# Checking Correlations between numeric columns (excluding 'Name')\n",
        "print(\"Correlation Matrix:\")\n",
        "print(df[['Age', 'Salary']].corr())  # Only pass numeric columns for correlation calculation\n",
        "# Grouping by 'Name' and calculating the mean of other columns\n",
        "print(\"\\nGrouped Data (Mean of Age and Salary by Name):\")\n",
        "print(df.groupby('Name', as_index=False).mean())\n",
        "\n"
      ]
    }
  ],
  "metadata": {
    "colab": {
      "provenance": []
    },
    "kernelspec": {
      "display_name": "Python 3",
      "name": "python3"
    },
    "language_info": {
      "codemirror_mode": {
        "name": "ipython",
        "version": 3
      },
      "file_extension": ".py",
      "mimetype": "text/x-python",
      "name": "python",
      "nbconvert_exporter": "python",
      "pygments_lexer": "ipython3",
      "version": "3.12.6"
    }
  },
  "nbformat": 4,
  "nbformat_minor": 0
}
