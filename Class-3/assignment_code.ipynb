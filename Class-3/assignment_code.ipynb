{
  "cells": [
    {
      "cell_type": "markdown",
      "metadata": {
        "id": "heading_section"
      },
      "source": [
        "# Assignment 3: Python Control Flow and Functions\n",
        "\n",
        "This notebook contains solutions for different Python applications demonstrating control flow and functions."
      ]
    },
    {
      "cell_type": "markdown",
      "metadata": {
        "id": "todo_heading"
      },
      "source": [
        "## 1. To-Do List Application"
      ]
    },
    {
      "cell_type": "code",
      "execution_count": 3,
      "metadata": {
        "id": "todo_implementation"
      },
      "outputs": [
        {
          "name": "stdout",
          "output_type": "stream",
          "text": [
            "Task 'Finish homework' added successfully!\n",
            "Task 'Buy groceries' added successfully!\n",
            "\n",
            "Current Tasks:\n",
            "1. Finish homework\n",
            "2. Buy groceries\n",
            "Task 'Buy groceries' removed successfully!\n",
            "\n",
            "Current Tasks:\n",
            "1. Finish homework\n"
          ]
        }
      ],
      "source": [
        "# Initialize an Empty List\n",
        "tasks = []\n",
        "\n",
        "# Define Function to Add Tasks\n",
        "def add_task(task):\n",
        "    tasks.append(task)\n",
        "    print(f\"Task '{task}' added successfully!\")\n",
        "\n",
        "# Define Function to Remove Tasks\n",
        "def remove_task(task):\n",
        "    if task in tasks:\n",
        "        tasks.remove(task)\n",
        "        print(f\"Task '{task}' removed successfully!\")\n",
        "    else:\n",
        "        print(f\"Task '{task}' not found!\")\n",
        "\n",
        "# Define Function to View Tasks\n",
        "def view_tasks():\n",
        "    if tasks:\n",
        "        print(\"\\nCurrent Tasks:\")\n",
        "        for i, task in enumerate(tasks, 1):\n",
        "            print(f\"{i}. {task}\")\n",
        "    else:\n",
        "        print(\"No tasks available!\")\n",
        "\n",
        "# Testing To-Do List Application\n",
        "add_task(\"Finish homework\")\n",
        "add_task(\"Buy groceries\")\n",
        "view_tasks()\n",
        "remove_task(\"Buy groceries\")\n",
        "view_tasks()"
      ]
    },
    {
      "cell_type": "markdown",
      "metadata": {
        "id": "maxmin_heading"
      },
      "source": [
        "## 2. Find Maximum and Minimum Values in a List"
      ]
    },
    {
      "cell_type": "code",
      "execution_count": 4,
      "metadata": {
        "id": "maxmin_implementation"
      },
      "outputs": [
        {
          "name": "stdout",
          "output_type": "stream",
          "text": [
            "Max: 9, Min: 1\n"
          ]
        }
      ],
      "source": [
        "def find_max_min(lst):\n",
        "    if not lst:\n",
        "        return None, None\n",
        "        \n",
        "    # Initialize max_val and min_val\n",
        "    max_val = lst[0]\n",
        "    min_val = lst[0]\n",
        "    \n",
        "    # Iterate Through the List\n",
        "    for num in lst:\n",
        "        # Compare Each Number to Find Maximum and Minimum\n",
        "        if num > max_val:\n",
        "            max_val = num\n",
        "        if num < min_val:\n",
        "            min_val = num\n",
        "            \n",
        "    return max_val, min_val\n",
        "\n",
        "# Testing Maximum and Minimum Finder\n",
        "numbers = [3, 9, 2, 8, 1]\n",
        "max_val, min_val = find_max_min(numbers)\n",
        "print(f\"Max: {max_val}, Min: {min_val}\")"
      ]
    },
    {
      "cell_type": "markdown",
      "metadata": {
        "id": "phonebook_heading"
      },
      "source": [
        "## 3. Simple Phonebook Using Dictionaries"
      ]
    },
    {
      "cell_type": "code",
      "execution_count": 5,
      "metadata": {
        "id": "phonebook_implementation"
      },
      "outputs": [
        {
          "name": "stdout",
          "output_type": "stream",
          "text": [
            "Contact 'Alice' added successfully!\n",
            "Contact 'Bob' added successfully!\n",
            "Alice's number: 1234567890\n",
            "Charlie's number: Contact not found\n"
          ]
        }
      ],
      "source": [
        "# Initialize an Empty Dictionary\n",
        "phonebook = {}\n",
        "\n",
        "# Define Function to Add Contacts\n",
        "def add_contact(name, number):\n",
        "    phonebook[name] = number\n",
        "    print(f\"Contact '{name}' added successfully!\")\n",
        "\n",
        "# Define Function to Retrieve a Phone Number\n",
        "def get_number(name):\n",
        "    return phonebook.get(name, \"Contact not found\")\n",
        "\n",
        "# Testing Phonebook Application\n",
        "add_contact(\"Alice\", \"1234567890\")\n",
        "add_contact(\"Bob\", \"9876543210\")\n",
        "print(f\"Alice's number: {get_number('Alice')}\")\n",
        "print(f\"Charlie's number: {get_number('Charlie')}\")"
      ]
    },
    {
      "cell_type": "markdown",
      "metadata": {
        "id": "inventory_heading"
      },
      "source": [
        "## 4. Inventory System Using Dictionaries"
      ]
    },
    {
      "cell_type": "code",
      "execution_count": 7,
      "metadata": {
        "id": "inventory_implementation"
      },
      "outputs": [
        {
          "name": "stdout",
          "output_type": "stream",
          "text": [
            "Added 10 Apple(s) to inventory.\n",
            "Added 5 Banana(s) to inventory.\n",
            "\n",
            "Current Inventory:\n",
            "Apple: 10\n",
            "Banana: 5\n",
            "Removed 3 Apple(s) from inventory.\n",
            "\n",
            "Current Inventory:\n",
            "Apple: 7\n",
            "Banana: 5\n"
          ]
        }
      ],
      "source": [
        "# Initialize an Empty Dictionary\n",
        "inventory = {}\n",
        "\n",
        "# Define Function to Add Items\n",
        "def add_item(item, quantity):\n",
        "    if item in inventory:\n",
        "        inventory[item] += quantity\n",
        "    else:\n",
        "        inventory[item] = quantity\n",
        "    print(f\"Added {quantity} {item}(s) to inventory.\")\n",
        "\n",
        "# Define Function to Remove Items\n",
        "def remove_item(item, quantity):\n",
        "    if item in inventory and inventory[item] >= quantity:\n",
        "        inventory[item] -= quantity\n",
        "        print(f\"Removed {quantity} {item}(s) from inventory.\")\n",
        "        if inventory[item] == 0:\n",
        "            del inventory[item]\n",
        "    else:\n",
        "        print(f\"Insufficient quantity of {item}.\")\n",
        "\n",
        "# Define Function to View Inventory\n",
        "def view_inventory():\n",
        "    if inventory:\n",
        "        print(\"\\nCurrent Inventory:\")\n",
        "        for item, quantity in inventory.items():\n",
        "            print(f\"{item}: {quantity}\")\n",
        "    else:\n",
        "        print(\"Inventory is empty!\")\n",
        "\n",
        "# Testing Inventory System\n",
        "add_item(\"Apple\", 10)\n",
        "add_item(\"Banana\", 5)\n",
        "view_inventory()\n",
        "remove_item(\"Apple\", 3)\n",
        "view_inventory()"
      ]
    },
    {
      "cell_type": "markdown",
      "metadata": {
        "id": "atm_heading"
      },
      "source": [
        "## 5. ATM System Simulation"
      ]
    },
    {
      "cell_type": "code",
      "execution_count": 6,
      "metadata": {
        "id": "atm_implementation"
      },
      "outputs": [
        {
          "name": "stdout",
          "output_type": "stream",
          "text": [
            "Deposited: $500. New balance: $1500\n",
            "Withdrew: $200. New balance: $1300\n",
            "Current balance: $1300\n"
          ]
        }
      ],
      "source": [
        "def deposit(balance, amount):\n",
        "    balance += amount\n",
        "    print(f\"Deposited: ${amount}. New balance: ${balance}\")\n",
        "    return balance\n",
        "\n",
        "def withdraw(balance, amount):\n",
        "    if amount <= balance:\n",
        "        balance -= amount\n",
        "        print(f\"Withdrew: ${amount}. New balance: ${balance}\")\n",
        "    else:\n",
        "        print(\"Insufficient funds\")\n",
        "    return balance\n",
        "\n",
        "def check_balance(balance):\n",
        "    print(f\"Current balance: ${balance}\")\n",
        "\n",
        "# Testing ATM System\n",
        "balance = 1000  # Initial balance\n",
        "balance = deposit(balance, 500)\n",
        "balance = withdraw(balance, 200)\n",
        "check_balance(balance)"
      ]
    }
  ],
  "metadata": {
    "colab": {
      "provenance": []
    },
    "kernelspec": {
      "display_name": "Python 3",
      "name": "python3"
    },
    "language_info": {
      "codemirror_mode": {
        "name": "ipython",
        "version": 3
      },
      "file_extension": ".py",
      "mimetype": "text/x-python",
      "name": "python",
      "nbconvert_exporter": "python",
      "pygments_lexer": "ipython3",
      "version": "3.12.6"
    }
  },
  "nbformat": 4,
  "nbformat_minor": 0
}
