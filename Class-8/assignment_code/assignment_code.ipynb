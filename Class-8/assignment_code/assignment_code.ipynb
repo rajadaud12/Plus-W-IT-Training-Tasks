{
  "cells": [
    {
      "cell_type": "markdown",
      "metadata": {
        "id": "sST3hja8kH_B"
      },
      "source": [
        "# Assignment #8: Machine Learning Tasks\n",
        "\n",
        "This notebook completes four machine learning tasks:\n",
        "1. Sales Forecasting for a Retail Store (Linear Regression)\n",
        "2. Email Spam Detection using SVM\n",
        "3. Customer Churn Prediction using SVM\n",
        "4. Fraud Detection in Credit Card Transactions using SVM\n"
      ]
    },
    {
      "cell_type": "markdown",
      "metadata": {
        "id": "TgnQmkmPkH_D"
      },
      "source": [
        "## Task 1: Sales Forecasting for a Retail Store\n",
        "\n",
        "**Objective**: Predict sales using Linear Regression based on features like ad budget, discount rate, season, and store traffic."
      ]
    },
    {
      "cell_type": "code",
      "execution_count": null,
      "metadata": {
        "colab": {
          "base_uri": "https://localhost:8080/",
          "height": 507
        },
        "id": "MZ8BryebkH_E",
        "outputId": "a9f902a1-1d22-484d-ccb7-989bc0bc5347"
      },
      "outputs": [
        {
          "name": "stdout",
          "output_type": "stream",
          "text": [
            "Sales Forecast - MSE: 3.2668119658427574e-21\n",
            "Sales Forecast - R-squared: 1.0\n"
          ]
        },
        {
          "data": {
            "image/png": "[encoded data removed]",
            "text/plain": [
              "<Figure size 640x480 with 1 Axes>"
            ]
          },
          "metadata": {},
          "output_type": "display_data"
        }
      ],
      "source": [
        "import pandas as pd\n",
        "from sklearn.model_selection import train_test_split\n",
        "from sklearn.linear_model import LinearRegression\n",
        "from sklearn.metrics import mean_squared_error, r2_score\n",
        "import matplotlib.pyplot as plt\n",
        "\n",
        "# Load dataset (assuming retail_sales.csv is uploaded to Colab)\n",
        "data_sales = pd.read_csv('retail_sales.csv')\n",
        "\n",
        "# Check if 'season' is categorical and encode it\n",
        "if data_sales['season'].dtype == 'object':\n",
        "    data_sales = pd.get_dummies(data_sales, columns=['season'], drop_first=True)\n",
        "\n",
        "# Define features and target\n",
        "X_sales = data_sales[['ad_budget', 'discount_rate', 'store_traffic'] + [col for col in data_sales.columns if 'season_' in col]]\n",
        "y_sales = data_sales['sales']\n",
        "\n",
        "# Split data\n",
        "X_train_sales, X_test_sales, y_train_sales, y_test_sales = train_test_split(X_sales, y_sales, test_size=0.2, random_state=42)\n",
        "\n",
        "# Train model\n",
        "model_sales = LinearRegression()\n",
        "model_sales.fit(X_train_sales, y_train_sales)\n",
        "\n",
        "# Predict\n",
        "y_pred_sales = model_sales.predict(X_test_sales)\n",
        "\n",
        "# Evaluate\n",
        "mse_sales = mean_squared_error(y_test_sales, y_pred_sales)\n",
        "r2_sales = r2_score(y_test_sales, y_pred_sales)\n",
        "\n",
        "print(f'Sales Forecast - MSE: {mse_sales}')\n",
        "print(f'Sales Forecast - R-squared: {r2_sales}')\n",
        "\n",
        "# Plot\n",
        "plt.scatter(y_test_sales, y_pred_sales)\n",
        "plt.xlabel('Actual Sales')\n",
        "plt.ylabel('Predicted Sales')\n",
        "plt.title('Actual vs Predicted Sales')\n",
        "plt.show()"
      ]
    },
    {
      "cell_type": "markdown",
      "metadata": {
        "id": "E2cnOLjgkH_G"
      },
      "source": [
        "## Task 2: Email Spam Detection using SVM\n",
        "\n",
        "**Objective**: Classify emails as spam or ham using SVM with TF-IDF features.\n"
      ]
    },
    {
      "cell_type": "code",
      "execution_count": null,
      "metadata": {
        "colab": {
          "base_uri": "https://localhost:8080/"
        },
        "id": "jSLbu8O2kH_H",
        "outputId": "34ef2b26-c850-4f95-ea48-85edd35323af"
      },
      "outputs": [
        {
          "name": "stderr",
          "output_type": "stream",
          "text": [
            "[nltk_data] Downloading package stopwords to /root/nltk_data...\n",
            "[nltk_data]   Unzipping corpora/stopwords.zip.\n"
          ]
        },
        {
          "name": "stdout",
          "output_type": "stream",
          "text": [
            "Accuracy: 0.9847533632286996\n",
            "              precision    recall  f1-score   support\n",
            "\n",
            "           0       0.98      1.00      0.99       966\n",
            "           1       0.99      0.89      0.94       149\n",
            "\n",
            "    accuracy                           0.98      1115\n",
            "   macro avg       0.99      0.95      0.97      1115\n",
            "weighted avg       0.98      0.98      0.98      1115\n",
            "\n"
          ]
        }
      ],
      "source": [
        "import pandas as pd\n",
        "import numpy as np\n",
        "import re\n",
        "import nltk\n",
        "from sklearn.feature_extraction.text import TfidfVectorizer\n",
        "from sklearn.model_selection import train_test_split\n",
        "from sklearn.svm import SVC\n",
        "from sklearn.metrics import accuracy_score, classification_report\n",
        "\n",
        "# Load dataset\n",
        "df = pd.read_csv('https://raw.githubusercontent.com/justmarkham/pycon-2016-tutorial/master/data/sms.tsv', sep='\\t', encoding='latin-1', header=None, names=['label', 'message'])\n",
        "\n",
        "# Convert labels to binary\n",
        "df['label'] = df['label'].map({'ham': 0, 'spam': 1})\n",
        "\n",
        "# Text Preprocessing\n",
        "nltk.download('stopwords')\n",
        "from nltk.corpus import stopwords\n",
        "from nltk.stem import PorterStemmer\n",
        "\n",
        "ps = PorterStemmer()\n",
        "corpus = []\n",
        "for msg in df['message']:\n",
        "    msg = re.sub('[^a-zA-Z]', ' ', str(msg)).lower().split()\n",
        "    msg = [ps.stem(word) for word in msg if word not in stopwords.words('english')]\n",
        "    corpus.append(' '.join(msg))\n",
        "\n",
        "# TF-IDF Vectorization\n",
        "vectorizer = TfidfVectorizer(max_features=5000)\n",
        "X = vectorizer.fit_transform(corpus).toarray()\n",
        "y = df['label'].values\n",
        "\n",
        "# Split data\n",
        "X_train, X_test, y_train, y_test = train_test_split(X, y, test_size=0.2, random_state=42)\n",
        "\n",
        "# Train SVM\n",
        "svm_model = SVC(kernel='linear')\n",
        "svm_model.fit(X_train, y_train)\n",
        "\n",
        "# Predict and Evaluate\n",
        "y_pred = svm_model.predict(X_test)\n",
        "print('Accuracy:', accuracy_score(y_test, y_pred))\n",
        "print(classification_report(y_test, y_pred))"
      ]
    },
    {
      "cell_type": "markdown",
      "metadata": {
        "id": "fVTFQm_rkH_H"
      },
      "source": [
        "## Task 3: Customer Churn Prediction using SVM\n",
        "\n",
        "**Objective**: Predict customer churn using SVM with RBF kernel.\n"
      ]
    },
    {
      "cell_type": "code",
      "execution_count": 12,
      "metadata": {
        "colab": {
          "base_uri": "https://localhost:8080/"
        },
        "id": "QQDxBbN1kH_H",
        "outputId": "7c0f38be-0b9b-4bb8-9655-55a2d5d3bd68"
      },
      "outputs": [
        {
          "name": "stdout",
          "output_type": "stream",
          "text": [
            "Accuracy: 0.16666666666666666\n",
            "              precision    recall  f1-score   support\n",
            "\n",
            "           0       0.00      0.00      0.00         5\n",
            "           1       0.17      1.00      0.29         1\n",
            "\n",
            "    accuracy                           0.17         6\n",
            "   macro avg       0.08      0.50      0.14         6\n",
            "weighted avg       0.03      0.17      0.05         6\n",
            "\n"
          ]
        },
        {
          "name": "stderr",
          "output_type": "stream",
          "text": [
            "/usr/local/lib/python3.11/dist-packages/sklearn/metrics/_classification.py:1565: UndefinedMetricWarning: Precision is ill-defined and being set to 0.0 in labels with no predicted samples. Use `zero_division` parameter to control this behavior.\n",
            "  _warn_prf(average, modifier, f\"{metric.capitalize()} is\", len(result))\n",
            "/usr/local/lib/python3.11/dist-packages/sklearn/metrics/_classification.py:1565: UndefinedMetricWarning: Precision is ill-defined and being set to 0.0 in labels with no predicted samples. Use `zero_division` parameter to control this behavior.\n",
            "  _warn_prf(average, modifier, f\"{metric.capitalize()} is\", len(result))\n",
            "/usr/local/lib/python3.11/dist-packages/sklearn/metrics/_classification.py:1565: UndefinedMetricWarning: Precision is ill-defined and being set to 0.0 in labels with no predicted samples. Use `zero_division` parameter to control this behavior.\n",
            "  _warn_prf(average, modifier, f\"{metric.capitalize()} is\", len(result))\n"
          ]
        }
      ],
      "source": [
        "import pandas as pd\n",
        "from sklearn.model_selection import train_test_split\n",
        "from sklearn.preprocessing import StandardScaler, LabelEncoder\n",
        "from sklearn.svm import SVC\n",
        "from sklearn.metrics import accuracy_score, classification_report\n",
        "\n",
        "# Load dataset\n",
        "df = pd.read_csv('churn.csv')\n",
        "\n",
        "# Drop unnecessary columns\n",
        "df = df.drop(columns=['customerID'])\n",
        "\n",
        "# Encode categorical variables\n",
        "label_enc = LabelEncoder()\n",
        "for col in df.select_dtypes(include=['object']).columns:\n",
        "    df[col] = label_enc.fit_transform(df[col])\n",
        "\n",
        "# Define features and target\n",
        "X = df.drop(columns=['churn'])\n",
        "y = df['churn']\n",
        "\n",
        "# Split data\n",
        "X_train, X_test, y_train, y_test = train_test_split(X, y, test_size=0.2, random_state=42)\n",
        "\n",
        "# Scale features\n",
        "scaler = StandardScaler()\n",
        "X_train = scaler.fit_transform(X_train)\n",
        "X_test = scaler.transform(X_test)\n",
        "\n",
        "# Train SVM\n",
        "svm_model = SVC(kernel='rbf', C=1, gamma='scale')\n",
        "svm_model.fit(X_train, y_train)\n",
        "\n",
        "# Predict and Evaluate\n",
        "y_pred = svm_model.predict(X_test)\n",
        "print('Accuracy:', accuracy_score(y_test, y_pred))\n",
        "print(classification_report(y_test, y_pred))"
      ]
    },
    {
      "cell_type": "markdown",
      "metadata": {
        "id": "m3JZmGm8kH_I"
      },
      "source": [
        "## Task 4: Fraud Detection in Credit Card Transactions\n",
        "\n",
        "**Objective**: Detect fraud using SVM on a sampled dataset.\n"
      ]
    },
    {
      "cell_type": "code",
      "execution_count": 13,
      "metadata": {
        "colab": {
          "base_uri": "https://localhost:8080/"
        },
        "id": "w62EdMUakH_I",
        "outputId": "5ca93d1c-8c18-49a3-e42e-4ced48b8e1d4"
      },
      "outputs": [
        {
          "name": "stdout",
          "output_type": "stream",
          "text": [
            "Accuracy: 0.9989468141126909\n",
            "              precision    recall  f1-score   support\n",
            "\n",
            "           0       1.00      1.00      1.00      5691\n",
            "           1       0.00      0.00      0.00         6\n",
            "\n",
            "    accuracy                           1.00      5697\n",
            "   macro avg       0.50      0.50      0.50      5697\n",
            "weighted avg       1.00      1.00      1.00      5697\n",
            "\n"
          ]
        },
        {
          "name": "stderr",
          "output_type": "stream",
          "text": [
            "/usr/local/lib/python3.11/dist-packages/sklearn/metrics/_classification.py:1565: UndefinedMetricWarning: Precision is ill-defined and being set to 0.0 in labels with no predicted samples. Use `zero_division` parameter to control this behavior.\n",
            "  _warn_prf(average, modifier, f\"{metric.capitalize()} is\", len(result))\n",
            "/usr/local/lib/python3.11/dist-packages/sklearn/metrics/_classification.py:1565: UndefinedMetricWarning: Precision is ill-defined and being set to 0.0 in labels with no predicted samples. Use `zero_division` parameter to control this behavior.\n",
            "  _warn_prf(average, modifier, f\"{metric.capitalize()} is\", len(result))\n",
            "/usr/local/lib/python3.11/dist-packages/sklearn/metrics/_classification.py:1565: UndefinedMetricWarning: Precision is ill-defined and being set to 0.0 in labels with no predicted samples. Use `zero_division` parameter to control this behavior.\n",
            "  _warn_prf(average, modifier, f\"{metric.capitalize()} is\", len(result))\n"
          ]
        }
      ],
      "source": [
        "import pandas as pd\n",
        "from sklearn.model_selection import train_test_split\n",
        "from sklearn.preprocessing import StandardScaler\n",
        "from sklearn.svm import SVC\n",
        "from sklearn.metrics import classification_report, accuracy_score\n",
        "\n",
        "# Load dataset\n",
        "df = pd.read_csv('https://storage.googleapis.com/download.tensorflow.org/data/creditcard.csv')\n",
        "\n",
        "# Reduce dataset size\n",
        "df = df.sample(frac=0.1, random_state=42)\n",
        "\n",
        "# Define features and target\n",
        "X = df.drop(columns=['Class'])\n",
        "y = df['Class']\n",
        "\n",
        "# Split data\n",
        "X_train, X_test, y_train, y_test = train_test_split(X, y, test_size=0.2, random_state=42)\n",
        "\n",
        "# Scale features\n",
        "scaler = StandardScaler()\n",
        "X_train = scaler.fit_transform(X_train)\n",
        "X_test = scaler.transform(X_test)\n",
        "\n",
        "# Train SVM\n",
        "svm_model = SVC(kernel='rbf', C=1, gamma='scale')\n",
        "svm_model.fit(X_train, y_train)\n",
        "\n",
        "# Predict and Evaluate\n",
        "y_pred = svm_model.predict(X_test)\n",
        "print('Accuracy:', accuracy_score(y_test, y_pred))\n",
        "print(classification_report(y_test, y_pred))"
      ]
    }
  ],
  "metadata": {
    "colab": {
      "provenance": []
    },
    "kernelspec": {
      "display_name": "Python 3",
      "language": "python",
      "name": "python3"
    },
    "language_info": {
      "codemirror_mode": {
        "name": "ipython",
        "version": 3
      },
      "file_extension": ".py",
      "mimetype": "text/x-python",
      "name": "python",
      "nbconvert_exporter": "python",
      "pygments_lexer": "ipython3",
      "version": "3.12.6"
    }
  },
  "nbformat": 4,
  "nbformat_minor": 0
}
