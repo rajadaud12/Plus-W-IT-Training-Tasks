{
 "cells": [
  {
   "cell_type": "code",
   "execution_count": 1,
   "id": "4c2ab77d",
   "metadata": {},
   "outputs": [
    {
     "name": "stdout",
     "output_type": "stream",
     "text": [
      "\n",
      "===== Random Color-Based Password Generator =====\n",
      "Selected Color: red\n",
      "Generated Password: der\n"
     ]
    }
   ],
   "source": [
    "# ==================================================\n",
    "# 3. Random Color-Based Password Generator\n",
    "# ==================================================\n",
    "\n",
    "import random\n",
    "\n",
    "# Step 1: Define the list of colors\n",
    "colors = [\"red\", \"black\", \"blue\", \"green\", \"yellow\", \"orange\", \"purple\", \"white\"]\n",
    "\n",
    "# Step 2: Generate a random index\n",
    "index = random.randint(0, len(colors) - 1)\n",
    "\n",
    "# Step 3: Select the color\n",
    "selected_color = colors[index]\n",
    "\n",
    "# Step 4: Reverse the selected color\n",
    "password = selected_color[::-1]\n",
    "\n",
    "# Step 5: Print the results\n",
    "print(\"\\n===== Random Color-Based Password Generator =====\")\n",
    "print(\"Selected Color:\", selected_color)\n",
    "print(\"Generated Password:\", password)"
   ]
  }
 ],
 "metadata": {
  "kernelspec": {
   "display_name": "Python 3",
   "language": "python",
   "name": "python3"
  },
  "language_info": {
   "codemirror_mode": {
    "name": "ipython",
    "version": 3
   },
   "file_extension": ".py",
   "mimetype": "text/x-python",
   "name": "python",
   "nbconvert_exporter": "python",
   "pygments_lexer": "ipython3",
   "version": "3.12.6"
  }
 },
 "nbformat": 4,
 "nbformat_minor": 5
}
