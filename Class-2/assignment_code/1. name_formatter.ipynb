{
  "cells": [
    {
      "cell_type": "code",
      "execution_count": 1,
      "id": "ac6fd2c8",
      "metadata": {
        "colab": {
          "base_uri": "https://localhost:8080/"
        },
        "id": "ac6fd2c8",
        "outputId": "2731c882-9386-4fe9-bd10-83dd10ed7a5f"
      },
      "outputs": [
        {
          "output_type": "stream",
          "name": "stdout",
          "text": [
            "Enter your first name: Daud\n",
            "Enter your last name: Nasar\n",
            "First name (upper): DAUD\n",
            "Last name (lower): nasar\n",
            "Sum of letters in your first and last name: 9\n"
          ]
        }
      ],
      "source": [
        "# ==================================================\n",
        "# 1. Name Formatter and Length Calculator\n",
        "# ==================================================\n",
        "\n",
        "# Step 1: Input first name and last name\n",
        "first_name = input(\"Enter your first name: \")\n",
        "last_name = input(\"Enter your last name: \")\n",
        "\n",
        "# Step 2: Convert first name to uppercase and last name to lowercase\n",
        "first_name = first_name.upper()\n",
        "last_name = last_name.lower()\n",
        "\n",
        "# Step 3: Calculate the sum of the letters\n",
        "total_letters = len(first_name) + len(last_name)\n",
        "\n",
        "# Step 4: Print the results\n",
        "print(f\"First name (upper): {first_name}\")\n",
        "print(f\"Last name (lower): {last_name}\")\n",
        "print(\"Sum of letters in your first and last name:\", total_letters)"
      ]
    }
  ],
  "metadata": {
    "kernelspec": {
      "display_name": "Python 3",
      "language": "python",
      "name": "python3"
    },
    "language_info": {
      "codemirror_mode": {
        "name": "ipython",
        "version": 3
      },
      "file_extension": ".py",
      "mimetype": "text/x-python",
      "name": "python",
      "nbconvert_exporter": "python",
      "pygments_lexer": "ipython3",
      "version": "3.12.6"
    },
    "colab": {
      "provenance": []
    }
  },
  "nbformat": 4,
  "nbformat_minor": 5
}