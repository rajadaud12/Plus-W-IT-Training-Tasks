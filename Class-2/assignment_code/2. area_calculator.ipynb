{
  "cells": [
    {
      "cell_type": "code",
      "execution_count": 1,
      "id": "b2e8fc4a",
      "metadata": {
        "colab": {
          "base_uri": "https://localhost:8080/"
        },
        "id": "b2e8fc4a",
        "outputId": "92230bbf-05c1-453e-9a8c-fbba4cfd3405"
      },
      "outputs": [
        {
          "output_type": "stream",
          "name": "stdout",
          "text": [
            "Calculate the area of the following shapes:\n",
            "1. Circle\n",
            "2. Rectangle\n",
            "3. Square\n",
            "4. Triangle\n",
            "\n",
            "Enter the radius of the circle: 4.0\n",
            "Enter the length of the rectangle: 8.0\n",
            "Enter the width of the rectangle: 3.0\n",
            "Enter the side length of the square: 4.0\n",
            "Enter the base of the triangle: 7.0\n",
            "Enter the height of the triangle: 9.0\n",
            "\n",
            "Results:\n",
            "The area of the circle is: 50.27\n",
            "The area of the rectangle is: 24.00\n",
            "The area of the square is: 16.00\n",
            "The area of the triangle is: 31.50\n"
          ]
        }
      ],
      "source": [
        "# ==================================================\n",
        "# 2. Simple Area Calculator for Various Shapes\n",
        "# ==================================================\n",
        "\n",
        "# Step 1: Input shape choice from user\n",
        "print(\"Calculate the area of the following shapes:\")\n",
        "print(\"1. Circle\")\n",
        "print(\"2. Rectangle\")\n",
        "print(\"3. Square\")\n",
        "print(\"4. Triangle\")\n",
        "\n",
        "# Circle area calculation\n",
        "radius = float(input(\"\\nEnter the radius of the circle: \"))\n",
        "pi = 3.141592653589793\n",
        "circle_area = pi * (radius ** 2)\n",
        "\n",
        "# Rectangle area calculation\n",
        "length = float(input(\"Enter the length of the rectangle: \"))\n",
        "width = float(input(\"Enter the width of the rectangle: \"))\n",
        "rectangle_area = length * width\n",
        "\n",
        "# Square area calculation\n",
        "side = float(input(\"Enter the side length of the square: \"))\n",
        "square_area = side ** 2\n",
        "\n",
        "# Triangle area calculation\n",
        "base = float(input(\"Enter the base of the triangle: \"))\n",
        "height = float(input(\"Enter the height of the triangle: \"))\n",
        "triangle_area = 0.5 * base * height\n",
        "\n",
        "# Printing Results\n",
        "print(\"\\nResults:\")\n",
        "print(f\"The area of the circle is: {circle_area:.2f}\")\n",
        "print(f\"The area of the rectangle is: {rectangle_area:.2f}\")\n",
        "print(f\"The area of the square is: {square_area:.2f}\")\n",
        "print(f\"The area of the triangle is: {triangle_area:.2f}\")"
      ]
    }
  ],
  "metadata": {
    "kernelspec": {
      "display_name": "Python 3",
      "language": "python",
      "name": "python3"
    },
    "language_info": {
      "codemirror_mode": {
        "name": "ipython",
        "version": 3
      },
      "file_extension": ".py",
      "mimetype": "text/x-python",
      "name": "python",
      "nbconvert_exporter": "python",
      "version": "3.8.10"
    },
    "colab": {
      "provenance": []
    }
  },
  "nbformat": 4,
  "nbformat_minor": 5
}