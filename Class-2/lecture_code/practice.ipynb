{
  "cells": [
    {
      "cell_type": "code",
      "execution_count": null,
      "metadata": {
        "id": "string_basics",
        "outputId": "222bdfa1-fb2f-4a85-ba6a-1e0bc707865f"
      },
      "outputs": [
        {
          "name": "stdout",
          "output_type": "stream",
          "text": [
            "Original string: Hello Python World\n",
            "Uppercase: HELLO PYTHON WORLD\n",
            "Lowercase: hello python world\n",
            "Word count: 3\n",
            "Replace result: Hello Programming World\n"
          ]
        }
      ],
      "source": [
        "# String manipulation practice\n",
        "text = \"Hello Python World\"\n",
        "print(\"Original string:\", text)\n",
        "print(\"Uppercase:\", text.upper())\n",
        "print(\"Lowercase:\", text.lower())\n",
        "print(\"Word count:\", len(text.split()))\n",
        "print(\"Replace result:\", text.replace(\"Python\", \"Programming\"))"
      ]
    },
    {
      "cell_type": "code",
      "execution_count": null,
      "metadata": {
        "id": "string_methods",
        "outputId": "fed3d720-9c47-412a-cf23-bf0d17efc3a4"
      },
      "outputs": [
        {
          "name": "stdout",
          "output_type": "stream",
          "text": [
            "Starts with 'pro': False\n",
            "Ends with 'ing': True\n",
            "Position of 'Python': 6\n",
            "Left stripped: Hello Python World   \n",
            "Right stripped:    Hello Python World\n",
            "Both sides stripped: Hello Python World\n"
          ]
        }
      ],
      "source": [
        "# More string methods\n",
        "text = \"   Hello Python World   \"\n",
        "print(\"Starts with 'pro':\", text.strip().lower().startswith(\"pro\"))\n",
        "print(\"Ends with 'ing':\", \"Programming\".endswith(\"ing\"))\n",
        "print(\"Position of 'Python':\", text.strip().find(\"Python\"))\n",
        "print(\"Left stripped:\", text.lstrip())\n",
        "print(\"Right stripped:\", text.rstrip())\n",
        "print(\"Both sides stripped:\", text.strip())"
      ]
    },
    {
      "cell_type": "code",
      "execution_count": null,
      "metadata": {
        "id": "random_practice",
        "outputId": "4889eb2e-b61d-4529-e842-e58d4698dbcd"
      },
      "outputs": [
        {
          "name": "stdout",
          "output_type": "stream",
          "text": [
            "Random number between 1-100: 67\n",
            "Random float: 0.8234591234671234\n",
            "Random choice from list: banana\n",
            "Original list: ['apple', 'banana', 'orange', 'grape']\n",
            "Shuffled list: ['grape', 'orange', 'apple', 'banana']\n",
            "3 random samples: ['orange', 'grape', 'apple']\n"
          ]
        }
      ],
      "source": [
        "# Random module practice\n",
        "import random\n",
        "\n",
        "print(\"Random number between 1-100:\", random.randint(1, 100))\n",
        "print(\"Random float:\", random.random())\n",
        "\n",
        "fruits = ['apple', 'banana', 'orange', 'grape']\n",
        "print(\"Random choice from list:\", random.choice(fruits))\n",
        "\n",
        "print(\"Original list:\", fruits)\n",
        "random.shuffle(fruits)\n",
        "print(\"Shuffled list:\", fruits)\n",
        "\n",
        "print(\"3 random samples:\", random.sample(fruits, 3))"
      ]
    },
    {
      "cell_type": "code",
      "execution_count": null,
      "metadata": {
        "id": "collections_practice",
        "outputId": "f6ce78b5-0c74-463b-8f91-fcf8e87d324a"
      },
      "outputs": [
        {
          "name": "stdout",
          "output_type": "stream",
          "text": [
            "Original list: [1, 2, 3, 4, 5]\n",
            "After append: [1, 2, 3, 4, 5, 6]\n",
            "After extend: [1, 2, 3, 4, 5, 6, 7, 8]\n",
            "Sliced list: [3, 4, 5]\n",
            "Reversed list: [8, 7, 6, 5, 4, 3, 2, 1]\n"
          ]
        }
      ],
      "source": [
        "# Collections practice - Lists\n",
        "numbers = [1, 2, 3, 4, 5]\n",
        "print(\"Original list:\", numbers)\n",
        "\n",
        "numbers.append(6)\n",
        "print(\"After append:\", numbers)\n",
        "\n",
        "numbers.extend([7, 8])\n",
        "print(\"After extend:\", numbers)\n",
        "\n",
        "print(\"Sliced list:\", numbers[2:5])\n",
        "numbers.reverse()\n",
        "print(\"Reversed list:\", numbers)"
      ]
    },
    {
      "cell_type": "code",
      "execution_count": null,
      "metadata": {
        "id": "dict_practice",
        "outputId": "bcd542dc-524b-4ae0-ec3d-b81195f9e1ac"
      },
      "outputs": [
        {
          "name": "stdout",
          "output_type": "stream",
          "text": [
            "Original dictionary: {'name': 'John', 'age': 25, 'city': 'New York'}\n",
            "All keys: dict_keys(['name', 'age', 'city'])\n",
            "All values: dict_values(['John', 25, 'New York'])\n",
            "Age value: 25\n",
            "Updated dictionary: {'name': 'John', 'age': 26, 'city': 'New York', 'country': 'USA'}\n"
          ]
        }
      ],
      "source": [
        "# Collections practice - Dictionaries\n",
        "person = {\n",
        "    \"name\": \"John\",\n",
        "    \"age\": 25,\n",
        "    \"city\": \"New York\"\n",
        "}\n",
        "\n",
        "print(\"Original dictionary:\", person)\n",
        "print(\"All keys:\", person.keys())\n",
        "print(\"All values:\", person.values())\n",
        "print(\"Age value:\", person.get(\"age\"))\n",
        "\n",
        "person[\"age\"] = 26\n",
        "person[\"country\"] = \"USA\"\n",
        "print(\"Updated dictionary:\", person)"
      ]
    }
  ],
  "metadata": {
    "kernelspec": {
      "display_name": "Python 3",
      "language": "python",
      "name": "python3"
    },
    "language_info": {
      "codemirror_mode": {
        "name": "ipython",
        "version": 3
      },
      "file_extension": ".py",
      "mimetype": "text/x-python",
      "name": "python",
      "nbconvert_exporter": "python",
      "pygments_lexer": "ipython3",
      "version": "3.8.0"
    },
    "colab": {
      "provenance": []
    }
  },
  "nbformat": 4,
  "nbformat_minor": 0
}