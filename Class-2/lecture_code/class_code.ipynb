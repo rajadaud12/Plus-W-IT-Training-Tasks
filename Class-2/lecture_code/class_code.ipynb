{
  "cells": [
    {
      "cell_type": "code",
      "execution_count": null,
      "metadata": {
        "colab": {
          "base_uri": "https://localhost:8080/"
        },
        "id": "cE97ZZ17vkMm",
        "outputId": "5979b929-a68d-4b6d-a4c1-3e234a71f75c"
      },
      "outputs": [
        {
          "name": "stdout",
          "output_type": "stream",
          "text": [
            "This is my second class of Python language\n"
          ]
        }
      ],
      "source": [
        "#indentation\n",
        "if True:\n",
        "  print(\"This is my second class of Python language\")\n",
        "\n",
        "#comments\n",
        "# if True: clt + /\n",
        "# print(\"This is my second class of Python language\")"
      ]
    },
    {
      "cell_type": "code",
      "execution_count": null,
      "metadata": {
        "colab": {
          "base_uri": "https://localhost:8080/"
        },
        "id": "M-41aGqZ4n1w",
        "outputId": "777c5baf-f350-43bd-964f-55ed361d1427"
      },
      "outputs": [
        {
          "name": "stdout",
          "output_type": "stream",
          "text": [
            "My name is Daud\n",
            "My age is 20\n",
            "3.14159\n"
          ]
        }
      ],
      "source": [
        "#variables and constants\n",
        "name = 'Daud'\n",
        "age = 20\n",
        "\n",
        "PI = 3.14159 #contsant\n",
        "\n",
        "print(\"My name is\", name)\n",
        "print(\"My age is\", age)\n",
        "\n",
        "print(PI)"
      ]
    },
    {
      "cell_type": "code",
      "execution_count": 1,
      "metadata": {
        "colab": {
          "base_uri": "https://localhost:8080/"
        },
        "id": "6UTjakT15w2i",
        "outputId": "9b7f25d2-5936-498b-89cc-12c07356e72d"
      },
      "outputs": [
        {
          "name": "stdout",
          "output_type": "stream",
          "text": [
            "Enter your name: Daud Bin Nasar\n",
            "My name is  Daud Bin Nasar\n",
            "<class 'str'>\n"
          ]
        }
      ],
      "source": [
        "#input and output fnctions\n",
        "\n",
        "name = input(\"Enter your name: \")\n",
        "print(\"My name is \", name)\n",
        "\n",
        "print(type(name))"
      ]
    },
    {
      "cell_type": "code",
      "execution_count": null,
      "metadata": {
        "colab": {
          "base_uri": "https://localhost:8080/"
        },
        "id": "w_8eicf66RSA",
        "outputId": "080b4852-51c3-4633-b6e4-ed5f4b5e4225"
      },
      "outputs": [
        {
          "name": "stdout",
          "output_type": "stream",
          "text": [
            "Real number is, 4.0\n",
            "Imaginary number is, 3.0\n"
          ]
        }
      ],
      "source": [
        "#Primitive Data type\n",
        "x = 10 #integer\n",
        "y = 10.01\n",
        "z = 4 + 3j\n",
        "\n",
        "print(\"Real number is,\", z.real)\n",
        "print(f'Imaginary number is, {z.imag}') #f-string"
      ]
    },
    {
      "cell_type": "code",
      "execution_count": null,
      "metadata": {
        "colab": {
          "base_uri": "https://localhost:8080/"
        },
        "id": "QRNwbqi8648X",
        "outputId": "ac9a38eb-8d54-41be-e212-9524fa9c0db4"
      },
      "outputs": [
        {
          "name": "stdout",
          "output_type": "stream",
          "text": [
            "Firs letter: T\n",
            "Here is P\n",
            "Python language\n",
            "PythonPythonPython\n",
            "Sliced string: This\n",
            "Sliced string: This is my second class\n",
            "Lower case this is my second class of python language\n",
            "Upper case THIS IS MY SECOND CLASS OF PYTHON LANGUAGE\n",
            "replace This is my second class of C++ language\n"
          ]
        }
      ],
      "source": [
        "#string\n",
        "\n",
        "sentence = \"This is my second class of Python language\"\n",
        "print(\"Firs letter:\", sentence[0])\n",
        "print(\"Here is\", sentence[-15])\n",
        "\n",
        "\n",
        "greeting = \"Python \" + \"language\"\n",
        "print(greeting)\n",
        "\n",
        "repeat = \"Python\" * 3\n",
        "print(repeat)\n",
        "\n",
        "print(\"Sliced string:\", sentence[0:4])\n",
        "\n",
        "print(\"Sliced string:\", sentence[0:23])\n",
        "\n",
        "print(\"Lower case\", sentence.lower())\n",
        "print(\"Upper case\", sentence.upper())\n",
        "\n",
        "print(\"replace\", sentence.replace(\"Python\", \"C++\"))"
      ]
    },
    {
      "cell_type": "code",
      "execution_count": 4,
      "metadata": {
        "colab": {
          "base_uri": "https://localhost:8080/"
        },
        "id": "RJv-8Lnd7ejr",
        "outputId": "d5648266-6231-489b-d493-65f455a6548b"
      },
      "outputs": [
        {
          "name": "stdout",
          "output_type": "stream",
          "text": [
            "[1, 2, 3, 4, 5, 6]\n"
          ]
        },
        {
          "data": {
            "text/plain": [
              "[1, 2, 3]"
            ]
          },
          "execution_count": 4,
          "metadata": {},
          "output_type": "execute_result"
        }
      ],
      "source": [
        "#Collect data Types\n",
        "\n",
        "#List\n",
        "numbers = [1,2,3,4,5]\n",
        "\n",
        "numbers.append(6)\n",
        "\n",
        "print(numbers)\n",
        "\n",
        "#List slicing\n",
        "numbers[:3]  #0,1,2 indices"
      ]
    },
    {
      "cell_type": "code",
      "execution_count": 2,
      "metadata": {
        "colab": {
          "base_uri": "https://localhost:8080/"
        },
        "id": "MzpyAnKt9qeI",
        "outputId": "93e4ef6e-ef34-402b-daa1-e73a997cdcbe"
      },
      "outputs": [
        {
          "name": "stdout",
          "output_type": "stream",
          "text": [
            "(1, 2, 3, 4, 5)\n"
          ]
        }
      ],
      "source": [
        "#tuples\n",
        "\n",
        "numbers = (1,2,3,4,5)\n",
        "\n",
        "print(numbers)"
      ]
    },
    {
      "cell_type": "code",
      "execution_count": null,
      "metadata": {
        "colab": {
          "base_uri": "https://localhost:8080/"
        },
        "id": "nn2dmHNk92p4",
        "outputId": "45300491-fb20-4e11-b79f-46c83cdf9db8"
      },
      "outputs": [
        {
          "name": "stdout",
          "output_type": "stream",
          "text": [
            "{1, 2, 3, 4, 5}\n"
          ]
        }
      ],
      "source": [
        "#Sets\n",
        "numbers = {1,2,3,4,5}\n",
        "\n",
        "numbers.add(5)\n",
        "\n",
        "print(numbers)"
      ]
    },
    {
      "cell_type": "code",
      "execution_count": null,
      "metadata": {
        "colab": {
          "base_uri": "https://localhost:8080/"
        },
        "id": "pf2tPOal-FI0",
        "outputId": "d6251c70-44fc-4656-9f17-f0bcac940f08"
      },
      "outputs": [
        {
          "name": "stdout",
          "output_type": "stream",
          "text": [
            "{'name': 'Daud'}\n",
            "{'name': 'Daud', 'age': 20}\n"
          ]
        }
      ],
      "source": [
        "#Dictionary\n",
        "\n",
        "student = {\"name\": \"Ali\"}  #key value pair\n",
        "\n",
        "student['name'] = \"Daud\"\n",
        "print(student)\n",
        "\n",
        "student['age'] = 20\n",
        "print(student)"
      ]
    },
    {
      "cell_type": "code",
      "execution_count": null,
      "metadata": {
        "colab": {
          "base_uri": "https://localhost:8080/"
        },
        "id": "rYeVz0iX-yiA",
        "outputId": "7e0900cc-32b6-4108-ed05-c51218696d6b"
      },
      "outputs": [
        {
          "name": "stdout",
          "output_type": "stream",
          "text": [
            "20.009999999999998\n",
            "<class 'float'>\n"
          ]
        }
      ],
      "source": [
        "#Implicit conversion\n",
        "num1 = 10\n",
        "num2 = 10.01\n",
        "\n",
        "result  = num1 + num2\n",
        "\n",
        "print(result)\n",
        "print(type(result))\n",
        "\n"
      ]
    },
    {
      "cell_type": "code",
      "execution_count": null,
      "metadata": {
        "colab": {
          "base_uri": "https://localhost:8080/"
        },
        "id": "SFVw2LnD_MPk",
        "outputId": "abf4e90e-bb7c-486e-ec46-6c8f1c90eacd"
      },
      "outputs": [
        {
          "name": "stdout",
          "output_type": "stream",
          "text": [
            "<class 'int'>\n",
            "30\n"
          ]
        }
      ],
      "source": [
        "#Explicit conversion\n",
        "\n",
        "age = \"20\"\n",
        "integer = 10\n",
        "\n",
        "age = int(age)\n",
        "# integer = str(integer)\n",
        "# float(age)\n",
        "\n",
        "print(type(age))\n",
        "\n",
        "result = age + integer\n",
        "\n",
        "print(result)\n",
        "\n",
        "\n"
      ]
    },
    {
      "cell_type": "code",
      "execution_count": null,
      "metadata": {
        "colab": {
          "base_uri": "https://localhost:8080/"
        },
        "id": "4musX8jg_95m",
        "outputId": "63d93354-2bd6-40e2-d13b-6256c3e538ab"
      },
      "outputs": [
        {
          "name": "stdout",
          "output_type": "stream",
          "text": [
            "Addition: 14\n",
            "Subtraction: 6\n",
            "Multiplication: 40\n",
            "Division: 2.5\n",
            "Floor Division 2\n",
            "Modulus 2\n",
            "Exponent 10000\n"
          ]
        }
      ],
      "source": [
        "#Operators\n",
        "\n",
        "#Arithmatic Operators\n",
        "\n",
        "num1 = 10\n",
        "num2 = 4\n",
        "\n",
        "print(\"Addition:\", num1 + num2)\n",
        "print(\"Subtraction:\", num1 - num2)\n",
        "print(\"Multiplication:\", num1 * num2)\n",
        "print(\"Division:\", num1 / num2)\n",
        "print(\"Floor Division\", num1 // num2)\n",
        "print(\"Modulus\", num1 % num2)\n",
        "print(\"Exponent\", num1 ** num2)   #num1 ^ number"
      ]
    },
    {
      "cell_type": "code",
      "execution_count": null,
      "metadata": {
        "colab": {
          "base_uri": "https://localhost:8080/"
        },
        "id": "BriRnRBEAiLA",
        "outputId": "58790339-5d0d-4bb7-877d-578f421d8b7f"
      },
      "outputs": [
        {
          "name": "stdout",
          "output_type": "stream",
          "text": [
            "Equal False\n",
            "Not Equal True\n",
            "Greater than True\n",
            "Less than False\n"
          ]
        }
      ],
      "source": [
        "#Comparison Operation\n",
        "\n",
        "num1 = 10\n",
        "num2 = 4\n",
        "\n",
        "print(\"Equal\", num1 == num2)\n",
        "print(\"Not Equal\", num1 != num2)\n",
        "print(\"Greater than\", num1 > num2)\n",
        "print(\"Less than\", num1 < num2)\n",
        "# print(\"Floor Division\", num1 // num2)\n",
        "# print(\"Modulus\", num1 % num2)\n",
        "# print(\"Exponent\", num1 ** num2)"
      ]
    },
    {
      "cell_type": "code",
      "execution_count": null,
      "metadata": {
        "colab": {
          "base_uri": "https://localhost:8080/"
        },
        "id": "HutdkDvoA7bX",
        "outputId": "1c8e532d-d00d-40e4-b72d-76e4edd920e6"
      },
      "outputs": [
        {
          "name": "stdout",
          "output_type": "stream",
          "text": [
            "AND False\n",
            "OR True\n",
            "NOT False\n"
          ]
        }
      ],
      "source": [
        "#Logical Operators\n",
        "p = True\n",
        "q= False\n",
        "\n",
        "print(\"AND\", p and q)\n",
        "print(\"OR\", p or q)\n",
        "print(\"NOT\", not p)"
      ]
    },
    {
      "cell_type": "code",
      "execution_count": null,
      "metadata": {
        "colab": {
          "base_uri": "https://localhost:8080/"
        },
        "id": "979ZbTAjBNkH",
        "outputId": "c0f2348d-2a3d-41ce-8687-4b8283440fa0"
      },
      "outputs": [
        {
          "name": "stdout",
          "output_type": "stream",
          "text": [
            "10.0\n"
          ]
        }
      ],
      "source": [
        "#Assignment Operators\n",
        "a=10\n",
        "a+=5 #a=a+5\n",
        "a-=5 #a=a-5\n",
        "a*=5 #a=a*5\n",
        "a/=5 #a=a/5\n",
        "print(a)"
      ]
    },
    {
      "cell_type": "code",
      "execution_count": 3,
      "metadata": {
        "colab": {
          "base_uri": "https://localhost:8080/"
        },
        "id": "mO3FvRpmBjcI",
        "outputId": "b9ad75e9-10e9-41bc-d441-65b6d29f64c7"
      },
      "outputs": [
        {
          "name": "stdout",
          "output_type": "stream",
          "text": [
            "4\n"
          ]
        }
      ],
      "source": [
        "#length Function\n",
        "sentence = \"Daud\"\n",
        "print(len(sentence))"
      ]
    },
    {
      "cell_type": "code",
      "execution_count": null,
      "metadata": {
        "colab": {
          "base_uri": "https://localhost:8080/"
        },
        "id": "-RksmZ5zB1e6",
        "outputId": "d5439b86-bd6f-40df-e89e-7ccdd01b20e0"
      },
      "outputs": [
        {
          "name": "stdout",
          "output_type": "stream",
          "text": [
            "['Python', 'language']\n"
          ]
        }
      ],
      "source": [
        "#split function\n",
        "sentence = \"Python:language\"\n",
        "print(sentence.split(':'))"
      ]
    },
    {
      "cell_type": "code",
      "execution_count": 4,
      "metadata": {
        "colab": {
          "base_uri": "https://localhost:8080/"
        },
        "id": "lHBkjOtvCM21",
        "outputId": "98644ed3-47fd-425b-86ec-97db6aa774c4"
      },
      "outputs": [
        {
          "name": "stdout",
          "output_type": "stream",
          "text": [
            "3\n",
            "0.7562216839759264\n",
            "4\n",
            "Orange\n"
          ]
        }
      ],
      "source": [
        "#random function\n",
        "import random\n",
        "print(random.randint(1,10))\n",
        "\n",
        "print(random.random())\n",
        "\n",
        "print(random.randint(1,10))\n",
        "\n",
        "items = ['Apple', \"Banana\" , \"Orange\",\"Mango\"]\n",
        "\n",
        "print(random.choice(items))\n",
        "\n",
        "\n"
      ]
    }
  ],
  "metadata": {
    "colab": {
      "provenance": []
    },
    "kernelspec": {
      "display_name": "Python 3",
      "name": "python3"
    },
    "language_info": {
      "codemirror_mode": {
        "name": "ipython",
        "version": 3
      },
      "file_extension": ".py",
      "mimetype": "text/x-python",
      "name": "python",
      "nbconvert_exporter": "python",
      "pygments_lexer": "ipython3",
      "version": "3.12.6"
    }
  },
  "nbformat": 4,
  "nbformat_minor": 0
}
